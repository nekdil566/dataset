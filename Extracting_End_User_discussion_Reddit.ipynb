{
 "cells": [
  {
   "cell_type": "code",
   "execution_count": 56,
   "metadata": {},
   "outputs": [
    {
     "name": "stdout",
     "output_type": "stream",
     "text": [
      "Title: Google Maps is testing a combined Commute tab to replace Driving and Transit, ups: 398, downs: 0, Have we visited?: False, subid: 9clgh7,comms_num: 66,Created date: 1535981196.0\n"
     ]
    }
   ],
   "source": [
    "import praw\n",
    "import pandas as pd\n",
    "import datetime as dt\n",
    "reddit = praw.Reddit( client_id='1DmNzJVScF-OROv_JZsGMA', client_secret='2m2sSWlTFQeVIURa5IDq6fYJ_eiVnw',\n",
    "user_agent='reddit_data_extractor1') # Initialize Reddit instance with dummy IDs (please replace with your actual IDs)\n",
    "submission=reddit.submission(id='9clgh7')\n",
    "item_data={\"comment_id\": [], \"parent_id\" :[],\"comment_author\" :[],\"comment_date\" :[],\"comment_upvotes\" :[],\"comment Text\" :[] }\n",
    "def comments_to_dicts(comments): \n",
    "    results = []  # create list for results\n",
    "    for comment in comments:  # iterate over comments\n",
    "        item = {  \"id\": comment.id,  \"author\": comment.author, \"up votes\": comment.ups,   \"parent_id\": comment.parent(),\n",
    "            \"date_created\": comment.created,  \"comment-text\":comment.body,  }  \n",
    "        if len(comment._replies) > 0:\n",
    "            item[\"replies\"] = comments_to_dicts(comment._replies)\n",
    "        results.append(item)  # add converted item to results \n",
    "    return results  # return all converted comments\n",
    "if not submission.stickied:\n",
    "        print('Title: {}, ups: {}, downs: {}, Have we visited?: {}, subid: {},comms_num: {},Created date: {}'.format(submission.title,\n",
    "  submission.ups,  submission.downs, submission.visited,  submission.id,submission.num_comments,submission.created))\n",
    "        submission.comments.replace_more()        \n",
    "        all_comments=submission.comments\n",
    "        comments= comments_to_dicts(all_comments)\n",
    "item_data['comment_id']. append(submission.id)\n",
    "item_data['parent_id']. append(0)\n",
    "item_data['comment_author'].append(submission.author)\n",
    "item_data['comment_date'].append(submission.created)\n",
    "item_data['comment_upvotes'].append(submission.ups)\n",
    "item_data['comment Text'].append(submission.title) \n",
    "items = []      \n",
    "for comment in comments: items.append(comment)\n",
    "while len(items) > 0:\n",
    "    item = items.pop() \n",
    "    item_data['comment_id']. append(item['id'])\n",
    "    item_data['parent_id']. append(item['parent_id'])\n",
    "    item_data['comment_author'].append(item['author'])\n",
    "    item_data['comment_date'].append(item['date_created'])\n",
    "    item_data['comment_upvotes'].append(item['up votes'])\n",
    "    item_data['comment Text'].append(item['comment-text'])\n",
    "    if 'replies' in item:\n",
    "        for r in item['replies']:\n",
    "            items.append(r)\n",
    "comments_data=pd.DataFrame(item_data)\n",
    "comments_data\n",
    "def get_date(created):\n",
    "    return dt.datetime.fromtimestamp(created)\n",
    "_timestamp=comments_data[\"comment_date\"].apply(get_date)\n",
    "comments_data=comments_data.assign(timestamp=_timestamp)\n",
    "comments_data.to_csv('Google Maps is testing a combined Commute tab to replace Driving and Transit5.csv', index=False)\n"
   ]
  },
  {
   "cell_type": "markdown",
   "metadata": {},
   "source": []
  },
  {
   "cell_type": "code",
   "execution_count": null,
   "metadata": {},
   "outputs": [],
   "source": []
  }
 ],
 "metadata": {
  "kernelspec": {
   "display_name": "Python 3 (ipykernel)",
   "language": "python",
   "name": "python3"
  },
  "language_info": {
   "codemirror_mode": {
    "name": "ipython",
    "version": 3
   },
   "file_extension": ".py",
   "mimetype": "text/x-python",
   "name": "python",
   "nbconvert_exporter": "python",
   "pygments_lexer": "ipython3",
   "version": "3.10.12"
  }
 },
 "nbformat": 4,
 "nbformat_minor": 4
}
